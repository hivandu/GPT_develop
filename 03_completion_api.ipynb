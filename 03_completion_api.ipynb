{
 "cells": [
  {
   "cell_type": "code",
   "execution_count": 1,
   "metadata": {},
   "outputs": [],
   "source": [
    "import openai\n",
    "import os"
   ]
  },
  {
   "cell_type": "code",
   "execution_count": 2,
   "metadata": {},
   "outputs": [],
   "source": [
    "openai.api_key = \"\"\n",
    "COMPLETION_MODEL = 'text-davinci-003'"
   ]
  },
  {
   "cell_type": "code",
   "execution_count": 3,
   "metadata": {},
   "outputs": [],
   "source": [
    "prompt = \"请你用朋友的语气回复给到客户，并称他为“亲”，他的订单已经发货在路上了，预计在3天之内会送达，订单号2021AEDG，我们很抱歉因为天气的原因物流时间比原来长，感谢他选购我们的商品。\""
   ]
  },
  {
   "cell_type": "code",
   "execution_count": 5,
   "metadata": {},
   "outputs": [],
   "source": [
    "def get_response(prompt, temperature = 1.0, stop):\n",
    "    completions = openai.Completion.create(\n",
    "        engine=COMPLETION_MODEL,\n",
    "        prompt = prompt,\n",
    "        max_tokens = 1024,\n",
    "        n = 1,\n",
    "        stop = None,\n",
    "        temperature = temperature,\n",
    "    )\n",
    "    message = completions.choices[0].text\n",
    "    return message"
   ]
  },
  {
   "cell_type": "code",
   "execution_count": 7,
   "metadata": {},
   "outputs": [
    {
     "name": "stdout",
     "output_type": "stream",
     "text": [
      "\n",
      "\n",
      "亲，你的订单2021AEDG已经在路上了，预计3天内就会送达。很抱歉由于天气的原因造成物流时间比原来长。谢谢你选购我们的商品，期待与你继续合作！\n"
     ]
    }
   ],
   "source": [
    "print(get_response(prompt))"
   ]
  },
  {
   "cell_type": "code",
   "execution_count": 10,
   "metadata": {},
   "outputs": [
    {
     "name": "stdout",
     "output_type": "stream",
     "text": [
      "\n",
      "\n",
      "亲，您的订单2021AEDG已经发货，预计在3天之内会送达。很抱歉因为天气的原因物流时间比原来长，感谢您选购我们的商品，祝您购物愉快！\n"
     ]
    }
   ],
   "source": [
    "print(get_response(prompt, 0.0))"
   ]
  },
  {
   "cell_type": "code",
   "execution_count": 13,
   "metadata": {},
   "outputs": [
    {
     "name": "stdout",
     "output_type": "stream",
     "text": [
      "准备好所需食材：豆腐、肉末（猪肉或鸡肉）、精盐、葱，蒜，料酒、生抽和老抽，花椒粉、白胡椒粉、辣椒粉、糖、淀粉和麻油。\n",
      "\n",
      "一、先将肉末和调料混合在一起：肉末、精盐、料酒、生抽、老抽、花椒粉、白胡椒粉、辣椒粉和麻油各适量。\n",
      "\n",
      "二、另外把豆腐切成小块，然后用淀粉抓着放入沸水锅中煮5-6分钟，煮至软熟。\n",
      "\n",
      "三、将肉末放入油锅，小火爆炒一会。加入蒜泥、葱泥继续炒香。\n",
      "\n",
      "四、将豆腐放入油锅中，加入糖、适量盐、酱油和水各适量，混合均匀，中火烧开再煮至汤汁稠浓即可。\n"
     ]
    }
   ],
   "source": [
    "\n",
    "question =  \"\"\"\n",
    "Q : 麻婆豆腐该怎么做？\n",
    "A : \n",
    "\"\"\"\n",
    "print(get_response(question))"
   ]
  },
  {
   "cell_type": "code",
   "execution_count": 14,
   "metadata": {},
   "outputs": [
    {
     "name": "stdout",
     "output_type": "stream",
     "text": [
      "耗油牛肉的做法：\n",
      "\n",
      "一、将牛肉蒸熟，然后切片\n",
      "\n",
      "二、锅里放入油，油量适中。 加入葱段和老姜末爆香，爆出豆香味\n",
      "\n",
      "三、加入花椒、八角、桂皮、冰糖、生抽等调料，爆香\n",
      "\n",
      "四、加入牛肉片，把调料搅拌均匀\n",
      "\n",
      "五、加入适量汤汁，继续小火慢慢炖\n",
      "\n",
      "六、待炖熟后，最后淋上葱段和香油，即可出锅享用。\n"
     ]
    }
   ],
   "source": [
    "question =  \"\"\"\n",
    "Q : 麻婆豆腐该怎么做？\n",
    "A :\n",
    "准备好所需食材：豆腐、肉末（猪肉或鸡肉）、精盐、葱，蒜，料酒、生抽和老抽，花椒粉、白胡椒粉、辣椒粉、糖、淀粉和麻油。\n",
    "\n",
    "一、先将肉末和调料混合在一起：肉末、精盐、料酒、生抽、老抽、花椒粉、白胡椒粉、辣椒粉和麻油各适量。\n",
    "\n",
    "二、另外把豆腐切成小块，然后用淀粉抓着放入沸水锅中煮5-6分钟，煮至软熟。\n",
    "\n",
    "三、将肉末放入油锅，小火爆炒一会。加入蒜泥、葱泥继续炒香。\n",
    "\n",
    "四、将豆腐放入油锅中，加入糖、适量盐、酱油和水各适量，混合均匀，中火烧开再煮至汤汁稠浓即可。 \n",
    "\n",
    "Q: 那耗油牛肉呢？\n",
    "A: \n",
    "\"\"\"\n",
    "print(get_response(question))"
   ]
  },
  {
   "cell_type": "code",
   "execution_count": 20,
   "metadata": {},
   "outputs": [],
   "source": [
    "def ask_gpt3(prompt):\n",
    "    response = openai.Completion.create(\n",
    "        engine=\"text-davinci-003\",\n",
    "        prompt=prompt,\n",
    "        max_tokens=512,\n",
    "        n=1,\n",
    "        stop=None,\n",
    "        temperature=0.5,\n",
    "    )\n",
    "\n",
    "    message = response.choices[0].text.strip()\n",
    "    return message"
   ]
  },
  {
   "cell_type": "code",
   "execution_count": 21,
   "metadata": {},
   "outputs": [
    {
     "name": "stdout",
     "output_type": "stream",
     "text": [
      "你好，我是一个聊天机器人，请你提出你的问题吧?\n"
     ]
    }
   ],
   "source": [
    "print(\"你好，我是一个聊天机器人，请你提出你的问题吧?\")\n",
    "\n",
    "questions = []\n",
    "answers = []"
   ]
  },
  {
   "cell_type": "code",
   "execution_count": 22,
   "metadata": {},
   "outputs": [],
   "source": [
    "def generate_prompt(prompt, questions, answers):\n",
    "    num = len(answers)\n",
    "    for i in range(num):\n",
    "        prompt += \"\\n Q : \" + questions[i]\n",
    "        prompt += \"\\n A : \" + answers[i]\n",
    "    prompt += \"\\n Q : \" + questions[num] + \"\\n A : \"        \n",
    "    return prompt"
   ]
  },
  {
   "cell_type": "code",
   "execution_count": null,
   "metadata": {},
   "outputs": [],
   "source": [
    "while True:\n",
    "    user_input = input(\"> \")\n",
    "    questions.append(user_input)\n",
    "    if user_input.lower() in [\"bye\", \"goodbye\", \"exit\"]:\n",
    "        print(\"Goodbye!\")\n",
    "        break\n",
    "    \n",
    "    prompt = generate_prompt(\"\", questions, answers)\n",
    "\n",
    "    answer = ask_gpt3(prompt)\n",
    "    print(answer)\n",
    "    answers.append(answer)"
   ]
  },
  {
   "cell_type": "code",
   "execution_count": 25,
   "metadata": {},
   "outputs": [
    {
     "name": "stdout",
     "output_type": "stream",
     "text": [
      "正面\n"
     ]
    }
   ],
   "source": [
    "\n",
    "prompts = \"\"\"判断一下用户的评论情感上是正面的还是负面的\n",
    "评论：120的刷新率会舒服很多，有重低音跑的感觉，特别爽，真是非常给力，特别屏幕也是超级好用，屏幕也很灵敏，使用丝滑顺畅，打游戏也很舒服拍照效果：拍照效果杠杠的，画质清晰，像素感人，发货快，包装严实，各方面都没破损，颜值很高，耐看，打开网页丝滑顺畅，游戏不掉帧，分辨率高，功能很齐全。拍照很强大，照片成像很细腻，反应速度也很快，苹果系统真的很好用，运行速度：\n",
    "14的运行速度非常快，打游戏真的太流畅了，真的非常喜欢这个手机。颜值高，手感好，拍照清晰，内存大，运行速度快，待机时间长满意太喜欢了，手感不错，拍照效果也很好，运行速度很快，音效很好，续航强，手机手感很好，电池续航也不错。其他特色：整体特别满意。外观很好看，手感拿着很有质感，屏幕看着非常好，拍照效果很不错，像素高了，新机拍照片怎么都好看。5G高速运行，超长待机一整天。\n",
    "情感：正面\n",
    "\n",
    "评论：刚买完就降价，卡着降价保护时间降价\n",
    "情感：负面\n",
    "\"\"\"\n",
    "\n",
    "good_case = prompts + \"\"\"\n",
    "评论：外形外观：银色外观好看。\n",
    "屏幕音效：音效非常好。\n",
    "拍照效果：拍照效果优秀，完全能够满足日常需要。\n",
    "运行速度：运行速度快，高刷无延迟。\n",
    "情感：\n",
    "\"\"\"\n",
    "\n",
    "print(get_response(good_case))"
   ]
  },
  {
   "cell_type": "code",
   "execution_count": 26,
   "metadata": {},
   "outputs": [
    {
     "name": "stdout",
     "output_type": "stream",
     "text": [
      "负面\n"
     ]
    }
   ],
   "source": [
    "bad_case = prompts + \"\"\"\n",
    "评论：充电口有划痕，有强迫症的建议选黄道吉日抽奖\n",
    "情感\n",
    "\"\"\"\n",
    "\n",
    "print(get_response(bad_case))"
   ]
  },
  {
   "cell_type": "code",
   "execution_count": null,
   "metadata": {},
   "outputs": [],
   "source": []
  }
 ],
 "metadata": {
  "kernelspec": {
   "display_name": "gpt",
   "language": "python",
   "name": "python3"
  },
  "language_info": {
   "codemirror_mode": {
    "name": "ipython",
    "version": 3
   },
   "file_extension": ".py",
   "mimetype": "text/x-python",
   "name": "python",
   "nbconvert_exporter": "python",
   "pygments_lexer": "ipython3",
   "version": "3.10.10"
  },
  "orig_nbformat": 4
 },
 "nbformat": 4,
 "nbformat_minor": 2
}
