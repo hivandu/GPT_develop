{
 "cells": [
  {
   "cell_type": "code",
   "execution_count": 1,
   "metadata": {},
   "outputs": [],
   "source": [
    "import pandas as pd"
   ]
  },
  {
   "cell_type": "code",
   "execution_count": 186,
   "metadata": {},
   "outputs": [
    {
     "name": "stdout",
     "output_type": "stream",
     "text": [
      "Index(['桐庐县重点老年人探访关爱情况记录表', 'Unnamed: 1', 'Unnamed: 2', 'Unnamed: 3',\n",
      "       'Unnamed: 4', 'Unnamed: 5', 'Unnamed: 6', 'Unnamed: 7', 'Unnamed: 8',\n",
      "       'Unnamed: 9', 'Unnamed: 10', 'Unnamed: 11', 'Unnamed: 12',\n",
      "       'Unnamed: 13', 'Unnamed: 14', 'Unnamed: 15', 'Unnamed: 16',\n",
      "       'Unnamed: 17', 'Unnamed: 18', 'Unnamed: 19'],\n",
      "      dtype='object')\n"
     ]
    }
   ],
   "source": [
    "filename = './tongxiang.xlsx'\n",
    "df = pd.read_excel(filename)\n",
    "print(df.columns)"
   ]
  },
  {
   "cell_type": "code",
   "execution_count": 187,
   "metadata": {},
   "outputs": [],
   "source": [
    "df.columns = ['序号','姓名','性别','年龄','孤寡老人','独居老人','空巢老人','分散供养特困老人','享受失能失智照料服务电子津贴老人','享受高龄普惠服务电子津贴老人','享受智慧养老服务老人','其他兜底保障老人','房屋是否顾在安全隐患','电器电线是否存在安全隐患','是否有眼化头晕无力食欲不振等现象','是否有跌倒皮骨伤疼痛生病等情况','是否需要安装燃气报警器','是否缺少防暑必须品联系人及电话','地点','']"
   ]
  },
  {
   "cell_type": "code",
   "execution_count": 188,
   "metadata": {},
   "outputs": [],
   "source": [
    "df=df.drop([0,1,2])"
   ]
  },
  {
   "cell_type": "code",
   "execution_count": 189,
   "metadata": {},
   "outputs": [
    {
     "data": {
      "text/html": [
       "<div>\n",
       "<style scoped>\n",
       "    .dataframe tbody tr th:only-of-type {\n",
       "        vertical-align: middle;\n",
       "    }\n",
       "\n",
       "    .dataframe tbody tr th {\n",
       "        vertical-align: top;\n",
       "    }\n",
       "\n",
       "    .dataframe thead th {\n",
       "        text-align: right;\n",
       "    }\n",
       "</style>\n",
       "<table border=\"1\" class=\"dataframe\">\n",
       "  <thead>\n",
       "    <tr style=\"text-align: right;\">\n",
       "      <th></th>\n",
       "      <th>序号</th>\n",
       "      <th>姓名</th>\n",
       "      <th>性别</th>\n",
       "      <th>年龄</th>\n",
       "      <th>孤寡老人</th>\n",
       "      <th>独居老人</th>\n",
       "      <th>空巢老人</th>\n",
       "      <th>分散供养特困老人</th>\n",
       "      <th>享受失能失智照料服务电子津贴老人</th>\n",
       "      <th>享受高龄普惠服务电子津贴老人</th>\n",
       "      <th>享受智慧养老服务老人</th>\n",
       "      <th>其他兜底保障老人</th>\n",
       "      <th>房屋是否顾在安全隐患</th>\n",
       "      <th>电器电线是否存在安全隐患</th>\n",
       "      <th>是否有眼化头晕无力食欲不振等现象</th>\n",
       "      <th>是否有跌倒皮骨伤疼痛生病等情况</th>\n",
       "      <th>是否需要安装燃气报警器</th>\n",
       "      <th>是否缺少防暑必须品联系人及电话</th>\n",
       "      <th>地点</th>\n",
       "      <th></th>\n",
       "    </tr>\n",
       "  </thead>\n",
       "  <tbody>\n",
       "    <tr>\n",
       "      <th>3</th>\n",
       "      <td>1</td>\n",
       "      <td>袁秀香</td>\n",
       "      <td>女</td>\n",
       "      <td>84</td>\n",
       "      <td>NaN</td>\n",
       "      <td>NaN</td>\n",
       "      <td>√</td>\n",
       "      <td>NaN</td>\n",
       "      <td>NaN</td>\n",
       "      <td>√</td>\n",
       "      <td>NaN</td>\n",
       "      <td>NaN</td>\n",
       "      <td>否</td>\n",
       "      <td>否</td>\n",
       "      <td>否</td>\n",
       "      <td>否</td>\n",
       "      <td>是</td>\n",
       "      <td>NaN</td>\n",
       "      <td>钟山村</td>\n",
       "      <td>NaN</td>\n",
       "    </tr>\n",
       "    <tr>\n",
       "      <th>4</th>\n",
       "      <td>2</td>\n",
       "      <td>麻金生</td>\n",
       "      <td>男</td>\n",
       "      <td>67</td>\n",
       "      <td>NaN</td>\n",
       "      <td>NaN</td>\n",
       "      <td>√</td>\n",
       "      <td>NaN</td>\n",
       "      <td>NaN</td>\n",
       "      <td>NaN</td>\n",
       "      <td>NaN</td>\n",
       "      <td>NaN</td>\n",
       "      <td>否</td>\n",
       "      <td>否</td>\n",
       "      <td>否</td>\n",
       "      <td>否</td>\n",
       "      <td>是</td>\n",
       "      <td>NaN</td>\n",
       "      <td>钟山村</td>\n",
       "      <td>NaN</td>\n",
       "    </tr>\n",
       "    <tr>\n",
       "      <th>5</th>\n",
       "      <td>3</td>\n",
       "      <td>麻湖美</td>\n",
       "      <td>女</td>\n",
       "      <td>61</td>\n",
       "      <td>NaN</td>\n",
       "      <td>NaN</td>\n",
       "      <td>√</td>\n",
       "      <td>NaN</td>\n",
       "      <td>NaN</td>\n",
       "      <td>NaN</td>\n",
       "      <td>NaN</td>\n",
       "      <td>NaN</td>\n",
       "      <td>否</td>\n",
       "      <td>否</td>\n",
       "      <td>否</td>\n",
       "      <td>否</td>\n",
       "      <td>是</td>\n",
       "      <td>NaN</td>\n",
       "      <td>钟山村</td>\n",
       "      <td>NaN</td>\n",
       "    </tr>\n",
       "    <tr>\n",
       "      <th>6</th>\n",
       "      <td>4</td>\n",
       "      <td>邹水花</td>\n",
       "      <td>女</td>\n",
       "      <td>91</td>\n",
       "      <td>NaN</td>\n",
       "      <td>NaN</td>\n",
       "      <td>√</td>\n",
       "      <td>NaN</td>\n",
       "      <td>NaN</td>\n",
       "      <td>√</td>\n",
       "      <td>NaN</td>\n",
       "      <td>NaN</td>\n",
       "      <td>否</td>\n",
       "      <td>否</td>\n",
       "      <td>否</td>\n",
       "      <td>否</td>\n",
       "      <td>是</td>\n",
       "      <td>NaN</td>\n",
       "      <td>钟山村</td>\n",
       "      <td>NaN</td>\n",
       "    </tr>\n",
       "    <tr>\n",
       "      <th>7</th>\n",
       "      <td>5</td>\n",
       "      <td>沈芝英</td>\n",
       "      <td>女</td>\n",
       "      <td>78</td>\n",
       "      <td>NaN</td>\n",
       "      <td>NaN</td>\n",
       "      <td>√</td>\n",
       "      <td>NaN</td>\n",
       "      <td>NaN</td>\n",
       "      <td>NaN</td>\n",
       "      <td>NaN</td>\n",
       "      <td>NaN</td>\n",
       "      <td>否</td>\n",
       "      <td>否</td>\n",
       "      <td>否</td>\n",
       "      <td>否</td>\n",
       "      <td>是</td>\n",
       "      <td>NaN</td>\n",
       "      <td>钟山村</td>\n",
       "      <td>NaN</td>\n",
       "    </tr>\n",
       "    <tr>\n",
       "      <th>...</th>\n",
       "      <td>...</td>\n",
       "      <td>...</td>\n",
       "      <td>...</td>\n",
       "      <td>...</td>\n",
       "      <td>...</td>\n",
       "      <td>...</td>\n",
       "      <td>...</td>\n",
       "      <td>...</td>\n",
       "      <td>...</td>\n",
       "      <td>...</td>\n",
       "      <td>...</td>\n",
       "      <td>...</td>\n",
       "      <td>...</td>\n",
       "      <td>...</td>\n",
       "      <td>...</td>\n",
       "      <td>...</td>\n",
       "      <td>...</td>\n",
       "      <td>...</td>\n",
       "      <td>...</td>\n",
       "      <td>...</td>\n",
       "    </tr>\n",
       "    <tr>\n",
       "      <th>904</th>\n",
       "      <td>902</td>\n",
       "      <td>姚邦道</td>\n",
       "      <td>男</td>\n",
       "      <td>93</td>\n",
       "      <td>√</td>\n",
       "      <td>NaN</td>\n",
       "      <td>NaN</td>\n",
       "      <td>NaN</td>\n",
       "      <td>NaN</td>\n",
       "      <td>√</td>\n",
       "      <td>NaN</td>\n",
       "      <td>低保</td>\n",
       "      <td>否</td>\n",
       "      <td>是</td>\n",
       "      <td>否</td>\n",
       "      <td>否</td>\n",
       "      <td>是</td>\n",
       "      <td>15906681861</td>\n",
       "      <td>大市村</td>\n",
       "      <td>NaN</td>\n",
       "    </tr>\n",
       "    <tr>\n",
       "      <th>905</th>\n",
       "      <td>903</td>\n",
       "      <td>姚正文</td>\n",
       "      <td>男</td>\n",
       "      <td>74</td>\n",
       "      <td>NaN</td>\n",
       "      <td>NaN</td>\n",
       "      <td>NaN</td>\n",
       "      <td>√</td>\n",
       "      <td>NaN</td>\n",
       "      <td>NaN</td>\n",
       "      <td>NaN</td>\n",
       "      <td>NaN</td>\n",
       "      <td>否</td>\n",
       "      <td>否</td>\n",
       "      <td>否</td>\n",
       "      <td>否</td>\n",
       "      <td>否</td>\n",
       "      <td>13606600846</td>\n",
       "      <td>大市村</td>\n",
       "      <td>NaN</td>\n",
       "    </tr>\n",
       "    <tr>\n",
       "      <th>906</th>\n",
       "      <td>904</td>\n",
       "      <td>王庆苗</td>\n",
       "      <td>男</td>\n",
       "      <td>76</td>\n",
       "      <td>NaN</td>\n",
       "      <td>NaN</td>\n",
       "      <td>√</td>\n",
       "      <td>NaN</td>\n",
       "      <td>NaN</td>\n",
       "      <td>NaN</td>\n",
       "      <td>NaN</td>\n",
       "      <td>NaN</td>\n",
       "      <td>否</td>\n",
       "      <td>否</td>\n",
       "      <td>否</td>\n",
       "      <td>否</td>\n",
       "      <td>否</td>\n",
       "      <td>13093702615</td>\n",
       "      <td>大市村</td>\n",
       "      <td>NaN</td>\n",
       "    </tr>\n",
       "    <tr>\n",
       "      <th>907</th>\n",
       "      <td>905</td>\n",
       "      <td>刘仙英</td>\n",
       "      <td>男</td>\n",
       "      <td>80</td>\n",
       "      <td>NaN</td>\n",
       "      <td>√</td>\n",
       "      <td>NaN</td>\n",
       "      <td>NaN</td>\n",
       "      <td>NaN</td>\n",
       "      <td>√</td>\n",
       "      <td>NaN</td>\n",
       "      <td>NaN</td>\n",
       "      <td>否</td>\n",
       "      <td>否</td>\n",
       "      <td>否</td>\n",
       "      <td>否</td>\n",
       "      <td>否</td>\n",
       "      <td>15957853086</td>\n",
       "      <td>大市村</td>\n",
       "      <td>NaN</td>\n",
       "    </tr>\n",
       "    <tr>\n",
       "      <th>908</th>\n",
       "      <td>906</td>\n",
       "      <td>麻一鸣</td>\n",
       "      <td>男</td>\n",
       "      <td>77</td>\n",
       "      <td>√</td>\n",
       "      <td>NaN</td>\n",
       "      <td>NaN</td>\n",
       "      <td>NaN</td>\n",
       "      <td>NaN</td>\n",
       "      <td>NaN</td>\n",
       "      <td>NaN</td>\n",
       "      <td>NaN</td>\n",
       "      <td>否</td>\n",
       "      <td>否</td>\n",
       "      <td>否</td>\n",
       "      <td>否</td>\n",
       "      <td>否</td>\n",
       "      <td>15858127048</td>\n",
       "      <td>大市村</td>\n",
       "      <td>新增</td>\n",
       "    </tr>\n",
       "  </tbody>\n",
       "</table>\n",
       "<p>906 rows × 20 columns</p>\n",
       "</div>"
      ],
      "text/plain": [
       "      序号   姓名 性别  年龄 孤寡老人 独居老人 空巢老人 分散供养特困老人 享受失能失智照料服务电子津贴老人 享受高龄普惠服务电子津贴老人   \n",
       "3      1  袁秀香  女  84  NaN  NaN    √      NaN              NaN              √  \\\n",
       "4      2  麻金生  男  67  NaN  NaN    √      NaN              NaN            NaN   \n",
       "5      3  麻湖美  女  61  NaN  NaN    √      NaN              NaN            NaN   \n",
       "6      4  邹水花  女  91  NaN  NaN    √      NaN              NaN              √   \n",
       "7      5  沈芝英  女  78  NaN  NaN    √      NaN              NaN            NaN   \n",
       "..   ...  ... ..  ..  ...  ...  ...      ...              ...            ...   \n",
       "904  902  姚邦道  男  93    √  NaN  NaN      NaN              NaN              √   \n",
       "905  903  姚正文  男  74  NaN  NaN  NaN        √              NaN            NaN   \n",
       "906  904  王庆苗  男  76  NaN  NaN    √      NaN              NaN            NaN   \n",
       "907  905  刘仙英  男  80  NaN    √  NaN      NaN              NaN              √   \n",
       "908  906  麻一鸣  男  77    √  NaN  NaN      NaN              NaN            NaN   \n",
       "\n",
       "    享受智慧养老服务老人 其他兜底保障老人 房屋是否顾在安全隐患 电器电线是否存在安全隐患 是否有眼化头晕无力食欲不振等现象   \n",
       "3          NaN      NaN          否            否                否  \\\n",
       "4          NaN      NaN          否            否                否   \n",
       "5          NaN      NaN          否            否                否   \n",
       "6          NaN      NaN          否            否                否   \n",
       "7          NaN      NaN          否            否                否   \n",
       "..         ...      ...        ...          ...              ...   \n",
       "904        NaN       低保          否            是                否   \n",
       "905        NaN      NaN          否            否                否   \n",
       "906        NaN      NaN          否            否                否   \n",
       "907        NaN      NaN          否            否                否   \n",
       "908        NaN      NaN          否            否                否   \n",
       "\n",
       "    是否有跌倒皮骨伤疼痛生病等情况 是否需要安装燃气报警器 是否缺少防暑必须品联系人及电话   地点       \n",
       "3                 否           是             NaN  钟山村  NaN  \n",
       "4                 否           是             NaN  钟山村  NaN  \n",
       "5                 否           是             NaN  钟山村  NaN  \n",
       "6                 否           是             NaN  钟山村  NaN  \n",
       "7                 否           是             NaN  钟山村  NaN  \n",
       "..              ...         ...             ...  ...  ...  \n",
       "904               否           是     15906681861  大市村  NaN  \n",
       "905               否           否     13606600846  大市村  NaN  \n",
       "906               否           否     13093702615  大市村  NaN  \n",
       "907               否           否     15957853086  大市村  NaN  \n",
       "908               否           否     15858127048  大市村   新增  \n",
       "\n",
       "[906 rows x 20 columns]"
      ]
     },
     "execution_count": 189,
     "metadata": {},
     "output_type": "execute_result"
    }
   ],
   "source": [
    "df"
   ]
  },
  {
   "cell_type": "code",
   "execution_count": 190,
   "metadata": {},
   "outputs": [],
   "source": [
    "df['年龄'] = pd.to_numeric(df['年龄'],errors='coerce')"
   ]
  },
  {
   "cell_type": "code",
   "execution_count": 191,
   "metadata": {},
   "outputs": [],
   "source": [
    "mean_age = df['年龄'].mean()"
   ]
  },
  {
   "cell_type": "code",
   "execution_count": 192,
   "metadata": {},
   "outputs": [
    {
     "name": "stdout",
     "output_type": "stream",
     "text": [
      "平均年龄: 71.33885209713024\n"
     ]
    }
   ],
   "source": [
    "print('平均年龄: '+str(mean_age))"
   ]
  },
  {
   "cell_type": "code",
   "execution_count": 193,
   "metadata": {},
   "outputs": [],
   "source": [
    "grouped=df.groupby('地点')['年龄'].mean()"
   ]
  },
  {
   "cell_type": "code",
   "execution_count": 194,
   "metadata": {},
   "outputs": [
    {
     "name": "stdout",
     "output_type": "stream",
     "text": [
      "地点\n",
      "中一村    68.781609\n",
      "仕厦村    73.826923\n",
      "城下村    74.739130\n",
      "夏塘村    75.285714\n",
      "大市村    74.750000\n",
      "子胥村    78.285714\n",
      "歌舞村    77.166667\n",
      "钟山村    70.472149\n",
      "陇西村    70.247863\n",
      "高峰村    70.923077\n",
      "魏丰村    78.222222\n",
      "Name: 年龄, dtype: float64\n"
     ]
    }
   ],
   "source": [
    "print(grouped)"
   ]
  },
  {
   "cell_type": "code",
   "execution_count": 195,
   "metadata": {},
   "outputs": [],
   "source": [
    "df=df.replace('√',1).replace({'':0, ' ':0})"
   ]
  },
  {
   "cell_type": "code",
   "execution_count": 196,
   "metadata": {},
   "outputs": [],
   "source": [
    "df=df.replace('是',1).replace({'否':0, ' ':0})"
   ]
  },
  {
   "cell_type": "code",
   "execution_count": 197,
   "metadata": {},
   "outputs": [],
   "source": [
    "df=df.replace(1.0, True).replace({0.0:False})"
   ]
  },
  {
   "cell_type": "code",
   "execution_count": 198,
   "metadata": {},
   "outputs": [],
   "source": [
    "df = df.fillna(False)"
   ]
  },
  {
   "cell_type": "code",
   "execution_count": 199,
   "metadata": {},
   "outputs": [],
   "source": [
    "df=df.drop('', axis=1)"
   ]
  },
  {
   "cell_type": "code",
   "execution_count": 200,
   "metadata": {},
   "outputs": [
    {
     "data": {
      "text/html": [
       "<div>\n",
       "<style scoped>\n",
       "    .dataframe tbody tr th:only-of-type {\n",
       "        vertical-align: middle;\n",
       "    }\n",
       "\n",
       "    .dataframe tbody tr th {\n",
       "        vertical-align: top;\n",
       "    }\n",
       "\n",
       "    .dataframe thead th {\n",
       "        text-align: right;\n",
       "    }\n",
       "</style>\n",
       "<table border=\"1\" class=\"dataframe\">\n",
       "  <thead>\n",
       "    <tr style=\"text-align: right;\">\n",
       "      <th></th>\n",
       "      <th>序号</th>\n",
       "      <th>姓名</th>\n",
       "      <th>性别</th>\n",
       "      <th>年龄</th>\n",
       "      <th>孤寡老人</th>\n",
       "      <th>独居老人</th>\n",
       "      <th>空巢老人</th>\n",
       "      <th>分散供养特困老人</th>\n",
       "      <th>享受失能失智照料服务电子津贴老人</th>\n",
       "      <th>享受高龄普惠服务电子津贴老人</th>\n",
       "      <th>享受智慧养老服务老人</th>\n",
       "      <th>其他兜底保障老人</th>\n",
       "      <th>房屋是否顾在安全隐患</th>\n",
       "      <th>电器电线是否存在安全隐患</th>\n",
       "      <th>是否有眼化头晕无力食欲不振等现象</th>\n",
       "      <th>是否有跌倒皮骨伤疼痛生病等情况</th>\n",
       "      <th>是否需要安装燃气报警器</th>\n",
       "      <th>是否缺少防暑必须品联系人及电话</th>\n",
       "      <th>地点</th>\n",
       "    </tr>\n",
       "  </thead>\n",
       "  <tbody>\n",
       "    <tr>\n",
       "      <th>3</th>\n",
       "      <td>True</td>\n",
       "      <td>袁秀香</td>\n",
       "      <td>女</td>\n",
       "      <td>84</td>\n",
       "      <td>False</td>\n",
       "      <td>False</td>\n",
       "      <td>True</td>\n",
       "      <td>False</td>\n",
       "      <td>False</td>\n",
       "      <td>True</td>\n",
       "      <td>False</td>\n",
       "      <td>False</td>\n",
       "      <td>False</td>\n",
       "      <td>False</td>\n",
       "      <td>False</td>\n",
       "      <td>False</td>\n",
       "      <td>True</td>\n",
       "      <td>False</td>\n",
       "      <td>钟山村</td>\n",
       "    </tr>\n",
       "    <tr>\n",
       "      <th>4</th>\n",
       "      <td>2</td>\n",
       "      <td>麻金生</td>\n",
       "      <td>男</td>\n",
       "      <td>67</td>\n",
       "      <td>False</td>\n",
       "      <td>False</td>\n",
       "      <td>True</td>\n",
       "      <td>False</td>\n",
       "      <td>False</td>\n",
       "      <td>False</td>\n",
       "      <td>False</td>\n",
       "      <td>False</td>\n",
       "      <td>False</td>\n",
       "      <td>False</td>\n",
       "      <td>False</td>\n",
       "      <td>False</td>\n",
       "      <td>True</td>\n",
       "      <td>False</td>\n",
       "      <td>钟山村</td>\n",
       "    </tr>\n",
       "    <tr>\n",
       "      <th>5</th>\n",
       "      <td>3</td>\n",
       "      <td>麻湖美</td>\n",
       "      <td>女</td>\n",
       "      <td>61</td>\n",
       "      <td>False</td>\n",
       "      <td>False</td>\n",
       "      <td>True</td>\n",
       "      <td>False</td>\n",
       "      <td>False</td>\n",
       "      <td>False</td>\n",
       "      <td>False</td>\n",
       "      <td>False</td>\n",
       "      <td>False</td>\n",
       "      <td>False</td>\n",
       "      <td>False</td>\n",
       "      <td>False</td>\n",
       "      <td>True</td>\n",
       "      <td>False</td>\n",
       "      <td>钟山村</td>\n",
       "    </tr>\n",
       "    <tr>\n",
       "      <th>6</th>\n",
       "      <td>4</td>\n",
       "      <td>邹水花</td>\n",
       "      <td>女</td>\n",
       "      <td>91</td>\n",
       "      <td>False</td>\n",
       "      <td>False</td>\n",
       "      <td>True</td>\n",
       "      <td>False</td>\n",
       "      <td>False</td>\n",
       "      <td>True</td>\n",
       "      <td>False</td>\n",
       "      <td>False</td>\n",
       "      <td>False</td>\n",
       "      <td>False</td>\n",
       "      <td>False</td>\n",
       "      <td>False</td>\n",
       "      <td>True</td>\n",
       "      <td>False</td>\n",
       "      <td>钟山村</td>\n",
       "    </tr>\n",
       "    <tr>\n",
       "      <th>7</th>\n",
       "      <td>5</td>\n",
       "      <td>沈芝英</td>\n",
       "      <td>女</td>\n",
       "      <td>78</td>\n",
       "      <td>False</td>\n",
       "      <td>False</td>\n",
       "      <td>True</td>\n",
       "      <td>False</td>\n",
       "      <td>False</td>\n",
       "      <td>False</td>\n",
       "      <td>False</td>\n",
       "      <td>False</td>\n",
       "      <td>False</td>\n",
       "      <td>False</td>\n",
       "      <td>False</td>\n",
       "      <td>False</td>\n",
       "      <td>True</td>\n",
       "      <td>False</td>\n",
       "      <td>钟山村</td>\n",
       "    </tr>\n",
       "    <tr>\n",
       "      <th>...</th>\n",
       "      <td>...</td>\n",
       "      <td>...</td>\n",
       "      <td>...</td>\n",
       "      <td>...</td>\n",
       "      <td>...</td>\n",
       "      <td>...</td>\n",
       "      <td>...</td>\n",
       "      <td>...</td>\n",
       "      <td>...</td>\n",
       "      <td>...</td>\n",
       "      <td>...</td>\n",
       "      <td>...</td>\n",
       "      <td>...</td>\n",
       "      <td>...</td>\n",
       "      <td>...</td>\n",
       "      <td>...</td>\n",
       "      <td>...</td>\n",
       "      <td>...</td>\n",
       "      <td>...</td>\n",
       "    </tr>\n",
       "    <tr>\n",
       "      <th>904</th>\n",
       "      <td>902</td>\n",
       "      <td>姚邦道</td>\n",
       "      <td>男</td>\n",
       "      <td>93</td>\n",
       "      <td>True</td>\n",
       "      <td>False</td>\n",
       "      <td>False</td>\n",
       "      <td>False</td>\n",
       "      <td>False</td>\n",
       "      <td>True</td>\n",
       "      <td>False</td>\n",
       "      <td>低保</td>\n",
       "      <td>False</td>\n",
       "      <td>True</td>\n",
       "      <td>False</td>\n",
       "      <td>False</td>\n",
       "      <td>True</td>\n",
       "      <td>15906681861</td>\n",
       "      <td>大市村</td>\n",
       "    </tr>\n",
       "    <tr>\n",
       "      <th>905</th>\n",
       "      <td>903</td>\n",
       "      <td>姚正文</td>\n",
       "      <td>男</td>\n",
       "      <td>74</td>\n",
       "      <td>False</td>\n",
       "      <td>False</td>\n",
       "      <td>False</td>\n",
       "      <td>True</td>\n",
       "      <td>False</td>\n",
       "      <td>False</td>\n",
       "      <td>False</td>\n",
       "      <td>False</td>\n",
       "      <td>False</td>\n",
       "      <td>False</td>\n",
       "      <td>False</td>\n",
       "      <td>False</td>\n",
       "      <td>False</td>\n",
       "      <td>13606600846</td>\n",
       "      <td>大市村</td>\n",
       "    </tr>\n",
       "    <tr>\n",
       "      <th>906</th>\n",
       "      <td>904</td>\n",
       "      <td>王庆苗</td>\n",
       "      <td>男</td>\n",
       "      <td>76</td>\n",
       "      <td>False</td>\n",
       "      <td>False</td>\n",
       "      <td>True</td>\n",
       "      <td>False</td>\n",
       "      <td>False</td>\n",
       "      <td>False</td>\n",
       "      <td>False</td>\n",
       "      <td>False</td>\n",
       "      <td>False</td>\n",
       "      <td>False</td>\n",
       "      <td>False</td>\n",
       "      <td>False</td>\n",
       "      <td>False</td>\n",
       "      <td>13093702615</td>\n",
       "      <td>大市村</td>\n",
       "    </tr>\n",
       "    <tr>\n",
       "      <th>907</th>\n",
       "      <td>905</td>\n",
       "      <td>刘仙英</td>\n",
       "      <td>男</td>\n",
       "      <td>80</td>\n",
       "      <td>False</td>\n",
       "      <td>True</td>\n",
       "      <td>False</td>\n",
       "      <td>False</td>\n",
       "      <td>False</td>\n",
       "      <td>True</td>\n",
       "      <td>False</td>\n",
       "      <td>False</td>\n",
       "      <td>False</td>\n",
       "      <td>False</td>\n",
       "      <td>False</td>\n",
       "      <td>False</td>\n",
       "      <td>False</td>\n",
       "      <td>15957853086</td>\n",
       "      <td>大市村</td>\n",
       "    </tr>\n",
       "    <tr>\n",
       "      <th>908</th>\n",
       "      <td>906</td>\n",
       "      <td>麻一鸣</td>\n",
       "      <td>男</td>\n",
       "      <td>77</td>\n",
       "      <td>True</td>\n",
       "      <td>False</td>\n",
       "      <td>False</td>\n",
       "      <td>False</td>\n",
       "      <td>False</td>\n",
       "      <td>False</td>\n",
       "      <td>False</td>\n",
       "      <td>False</td>\n",
       "      <td>False</td>\n",
       "      <td>False</td>\n",
       "      <td>False</td>\n",
       "      <td>False</td>\n",
       "      <td>False</td>\n",
       "      <td>15858127048</td>\n",
       "      <td>大市村</td>\n",
       "    </tr>\n",
       "  </tbody>\n",
       "</table>\n",
       "<p>906 rows × 19 columns</p>\n",
       "</div>"
      ],
      "text/plain": [
       "       序号   姓名 性别  年龄   孤寡老人   独居老人   空巢老人  分散供养特困老人  享受失能失智照料服务电子津贴老人   \n",
       "3    True  袁秀香  女  84  False  False   True     False             False  \\\n",
       "4       2  麻金生  男  67  False  False   True     False             False   \n",
       "5       3  麻湖美  女  61  False  False   True     False             False   \n",
       "6       4  邹水花  女  91  False  False   True     False             False   \n",
       "7       5  沈芝英  女  78  False  False   True     False             False   \n",
       "..    ...  ... ..  ..    ...    ...    ...       ...               ...   \n",
       "904   902  姚邦道  男  93   True  False  False     False             False   \n",
       "905   903  姚正文  男  74  False  False  False      True             False   \n",
       "906   904  王庆苗  男  76  False  False   True     False             False   \n",
       "907   905  刘仙英  男  80  False   True  False     False             False   \n",
       "908   906  麻一鸣  男  77   True  False  False     False             False   \n",
       "\n",
       "     享受高龄普惠服务电子津贴老人  享受智慧养老服务老人 其他兜底保障老人  房屋是否顾在安全隐患 电器电线是否存在安全隐患   \n",
       "3              True       False    False       False        False  \\\n",
       "4             False       False    False       False        False   \n",
       "5             False       False    False       False        False   \n",
       "6              True       False    False       False        False   \n",
       "7             False       False    False       False        False   \n",
       "..              ...         ...      ...         ...          ...   \n",
       "904            True       False       低保       False         True   \n",
       "905           False       False    False       False        False   \n",
       "906           False       False    False       False        False   \n",
       "907            True       False    False       False        False   \n",
       "908           False       False    False       False        False   \n",
       "\n",
       "     是否有眼化头晕无力食欲不振等现象  是否有跌倒皮骨伤疼痛生病等情况  是否需要安装燃气报警器 是否缺少防暑必须品联系人及电话   地点  \n",
       "3               False            False         True           False  钟山村  \n",
       "4               False            False         True           False  钟山村  \n",
       "5               False            False         True           False  钟山村  \n",
       "6               False            False         True           False  钟山村  \n",
       "7               False            False         True           False  钟山村  \n",
       "..                ...              ...          ...             ...  ...  \n",
       "904             False            False         True     15906681861  大市村  \n",
       "905             False            False        False     13606600846  大市村  \n",
       "906             False            False        False     13093702615  大市村  \n",
       "907             False            False        False     15957853086  大市村  \n",
       "908             False            False        False     15858127048  大市村  \n",
       "\n",
       "[906 rows x 19 columns]"
      ]
     },
     "execution_count": 200,
     "metadata": {},
     "output_type": "execute_result"
    }
   ],
   "source": [
    "df"
   ]
  },
  {
   "cell_type": "code",
   "execution_count": 201,
   "metadata": {},
   "outputs": [
    {
     "name": "stdout",
     "output_type": "stream",
     "text": [
      "孤寡老人：\n",
      "地点\n",
      "中一村     8\n",
      "仕厦村     0\n",
      "城下村    16\n",
      "夏塘村     2\n",
      "大市村     3\n",
      "子胥村     1\n",
      "歌舞村     2\n",
      "钟山村    19\n",
      "陇西村     2\n",
      "高峰村     4\n",
      "魏丰村     2\n",
      "Name: 孤寡老人, dtype: int64\n",
      "共有: 59\n"
     ]
    }
   ],
   "source": [
    "lonely_elderly_count = df.groupby('地点')['孤寡老人'].sum()\n",
    "lonely_elderly_sum = df['孤寡老人'].sum()\n",
    "print(\"孤寡老人：\\n\"+str(lonely_elderly_count))\n",
    "print(\"共有: \"+str(lonely_elderly_sum))"
   ]
  },
  {
   "cell_type": "code",
   "execution_count": 202,
   "metadata": {},
   "outputs": [
    {
     "name": "stdout",
     "output_type": "stream",
     "text": [
      "独居老人：\n",
      "地点\n",
      "中一村    25\n",
      "仕厦村    11\n",
      "城下村    76\n",
      "夏塘村    11\n",
      "大市村     5\n",
      "子胥村     6\n",
      "歌舞村    10\n",
      "钟山村    78\n",
      "陇西村    18\n",
      "高峰村     9\n",
      "魏丰村    31\n",
      "Name: 独居老人, dtype: int64\n",
      "共有: 280\n"
     ]
    }
   ],
   "source": [
    "alone_elderly_count = df.groupby('地点')['独居老人'].sum()\n",
    "alone_elderly_sum = df['独居老人'].sum()\n",
    "print(\"独居老人：\\n\"+str(alone_elderly_count))\n",
    "print(\"共有: \"+str(alone_elderly_sum))\n"
   ]
  },
  {
   "cell_type": "code",
   "execution_count": 203,
   "metadata": {},
   "outputs": [
    {
     "name": "stdout",
     "output_type": "stream",
     "text": [
      "空巢老人\n",
      "地点\n",
      "中一村    141\n",
      "仕厦村     38\n",
      "城下村      0\n",
      "夏塘村      1\n",
      "大市村      1\n",
      "子胥村      0\n",
      "歌舞村      0\n",
      "钟山村    279\n",
      "陇西村     98\n",
      "高峰村      0\n",
      "魏丰村      3\n",
      "Name: 空巢老人, dtype: int64\n",
      "共有: 561\n"
     ]
    }
   ],
   "source": [
    "empty_nest_count = df.groupby('地点')['空巢老人'].sum()\n",
    "empty_nest_sum = df['空巢老人'].sum()\n",
    "print(\"空巢老人\\n\"+str(empty_nest_count))\n",
    "print(\"共有: \"+str(empty_nest_sum))"
   ]
  },
  {
   "cell_type": "code",
   "execution_count": 204,
   "metadata": {},
   "outputs": [
    {
     "name": "stdout",
     "output_type": "stream",
     "text": [
      "分散供养特困老人\n",
      "地点\n",
      "中一村     7\n",
      "仕厦村     2\n",
      "城下村    11\n",
      "夏塘村     2\n",
      "大市村     3\n",
      "子胥村     0\n",
      "歌舞村     1\n",
      "钟山村    11\n",
      "陇西村     2\n",
      "高峰村     4\n",
      "魏丰村     3\n",
      "Name: 分散供养特困老人, dtype: int64\n",
      "共有: 46\n"
     ]
    }
   ],
   "source": [
    "decentralized_count = df.groupby('地点')['分散供养特困老人'].sum()\n",
    "decentralized_sum = df['分散供养特困老人'].sum()\n",
    "print(\"分散供养特困老人\\n\"+str(decentralized_count))\n",
    "print(\"共有: \"+str(decentralized_sum))"
   ]
  },
  {
   "cell_type": "code",
   "execution_count": 205,
   "metadata": {},
   "outputs": [
    {
     "name": "stdout",
     "output_type": "stream",
     "text": [
      "失能失智照料服务电子津贴\n",
      "地点\n",
      "中一村    0\n",
      "仕厦村    0\n",
      "城下村    0\n",
      "夏塘村    0\n",
      "大市村    0\n",
      "子胥村    0\n",
      "歌舞村    0\n",
      "钟山村    0\n",
      "陇西村    0\n",
      "高峰村    0\n",
      "魏丰村    0\n",
      "Name: 享受失能失智照料服务电子津贴老人, dtype: int64\n",
      "共有: 0\n"
     ]
    }
   ],
   "source": [
    "subsidy_count = df.groupby('地点')['享受失能失智照料服务电子津贴老人'].sum()\n",
    "subsidy_sum = df['享受失能失智照料服务电子津贴老人'].sum()\n",
    "print(\"失能失智照料服务电子津贴\\n\"+str(subsidy_count))\n",
    "print(\"共有: \"+str(subsidy_sum))"
   ]
  },
  {
   "cell_type": "code",
   "execution_count": 206,
   "metadata": {},
   "outputs": [
    {
     "name": "stdout",
     "output_type": "stream",
     "text": [
      "享受高龄普惠服务电子津贴老人\n",
      "地点\n",
      "中一村     7\n",
      "仕厦村     9\n",
      "城下村    28\n",
      "夏塘村     3\n",
      "大市村     2\n",
      "子胥村     3\n",
      "歌舞村     5\n",
      "钟山村    44\n",
      "陇西村     6\n",
      "高峰村     1\n",
      "魏丰村    17\n",
      "Name: 享受高龄普惠服务电子津贴老人, dtype: int64\n",
      "共有: 125\n"
     ]
    }
   ],
   "source": [
    "subsidy_2_count = df.groupby('地点')['享受高龄普惠服务电子津贴老人'].sum()\n",
    "subsidy_2_sum = df['享受高龄普惠服务电子津贴老人'].sum()\n",
    "print(\"享受高龄普惠服务电子津贴老人\\n\"+str(subsidy_2_count))\n",
    "print(\"共有: \"+str(subsidy_2_sum))"
   ]
  },
  {
   "cell_type": "code",
   "execution_count": 207,
   "metadata": {},
   "outputs": [
    {
     "name": "stdout",
     "output_type": "stream",
     "text": [
      "享受智慧养老服务老人\n",
      "地点\n",
      "中一村    0\n",
      "仕厦村    0\n",
      "城下村    0\n",
      "夏塘村    0\n",
      "大市村    0\n",
      "子胥村    0\n",
      "歌舞村    0\n",
      "钟山村    0\n",
      "陇西村    0\n",
      "高峰村    0\n",
      "魏丰村    0\n",
      "Name: 享受智慧养老服务老人, dtype: int64\n",
      "共有: 0\n"
     ]
    }
   ],
   "source": [
    "\n",
    "smart_count = df.groupby('地点')['享受智慧养老服务老人'].sum()\n",
    "smart_sum = df['享受智慧养老服务老人'].sum()\n",
    "print(\"享受智慧养老服务老人\\n\"+str(smart_count))\n",
    "print(\"共有: \"+str(smart_sum))"
   ]
  },
  {
   "cell_type": "code",
   "execution_count": 208,
   "metadata": {},
   "outputs": [
    {
     "data": {
      "text/plain": [
       "其他兜底保障老人\n",
       "False    859\n",
       "低保        20\n",
       "True      14\n",
       "特困        10\n",
       "残保         2\n",
       "低收入        1\n",
       "Name: count, dtype: int64"
      ]
     },
     "execution_count": 208,
     "metadata": {},
     "output_type": "execute_result"
    }
   ],
   "source": [
    "df['其他兜底保障老人'].value_counts()\n",
    "# other_count = df.groupby('地点')['其他兜底保障老人'].sum()\n",
    "# other_sum = df['其他兜底保障老人'].sum()\n",
    "# print(\"其他兜底保障老人\\n\"+str(other_count))\n",
    "# print(\"共有: \"+str(other_sum))"
   ]
  },
  {
   "cell_type": "code",
   "execution_count": 209,
   "metadata": {},
   "outputs": [
    {
     "name": "stdout",
     "output_type": "stream",
     "text": [
      "房屋是否顾在安全隐患\n",
      "地点\n",
      "中一村    0\n",
      "仕厦村    0\n",
      "城下村    0\n",
      "夏塘村    0\n",
      "大市村    0\n",
      "子胥村    0\n",
      "歌舞村    0\n",
      "钟山村    0\n",
      "陇西村    0\n",
      "高峰村    0\n",
      "魏丰村    0\n",
      "Name: 房屋是否顾在安全隐患, dtype: int64\n",
      "共有: 0\n"
     ]
    }
   ],
   "source": [
    "house_count = df.groupby('地点')['房屋是否顾在安全隐患'].sum()\n",
    "house_sum = df['房屋是否顾在安全隐患'].sum()\n",
    "print(\"房屋是否顾在安全隐患\\n\"+str(house_count))\n",
    "print(\"共有: \"+str(house_sum))"
   ]
  },
  {
   "cell_type": "code",
   "execution_count": 210,
   "metadata": {},
   "outputs": [
    {
     "name": "stdout",
     "output_type": "stream",
     "text": [
      "电器电线是否存在安全隐患\n",
      "地点\n",
      "中一村    0\n",
      "仕厦村    0\n",
      "城下村    0\n",
      "夏塘村    0\n",
      "大市村    1\n",
      "子胥村    0\n",
      "歌舞村    3\n",
      "钟山村    1\n",
      "陇西村    0\n",
      "高峰村    0\n",
      "魏丰村    1\n",
      "Name: 电器电线是否存在安全隐患, dtype: int64\n",
      "共有: 6\n"
     ]
    }
   ],
   "source": [
    "df=df.replace('电线存在隐患',True)\n",
    "electrical_count = df.groupby('地点')['电器电线是否存在安全隐患'].sum()\n",
    "electrical_sum = df['电器电线是否存在安全隐患'].sum()\n",
    "print(\"电器电线是否存在安全隐患\\n\"+str(electrical_count))\n",
    "print(\"共有: \"+str(electrical_sum))"
   ]
  },
  {
   "cell_type": "code",
   "execution_count": 211,
   "metadata": {},
   "outputs": [
    {
     "name": "stdout",
     "output_type": "stream",
     "text": [
      "是否有眼化头晕无力食欲不振等现象\n",
      "地点\n",
      "中一村    0\n",
      "仕厦村    0\n",
      "城下村    0\n",
      "夏塘村    0\n",
      "大市村    0\n",
      "子胥村    0\n",
      "歌舞村    0\n",
      "钟山村    0\n",
      "陇西村    0\n",
      "高峰村    1\n",
      "魏丰村    0\n",
      "Name: 是否有眼化头晕无力食欲不振等现象, dtype: int64\n",
      "共有: 1\n"
     ]
    }
   ],
   "source": [
    "\n",
    "head_count = df.groupby('地点')['是否有眼化头晕无力食欲不振等现象'].sum()\n",
    "head_sum = df['是否有眼化头晕无力食欲不振等现象'].sum()\n",
    "print(\"是否有眼化头晕无力食欲不振等现象\\n\"+str(head_count))\n",
    "print(\"共有: \"+str(head_sum))"
   ]
  },
  {
   "cell_type": "code",
   "execution_count": 212,
   "metadata": {},
   "outputs": [
    {
     "name": "stdout",
     "output_type": "stream",
     "text": [
      "是否有跌倒皮骨伤疼痛生病等情况\n",
      "地点\n",
      "中一村     0\n",
      "仕厦村     0\n",
      "城下村     0\n",
      "夏塘村     0\n",
      "大市村     0\n",
      "子胥村     0\n",
      "歌舞村     1\n",
      "钟山村    20\n",
      "陇西村     0\n",
      "高峰村     3\n",
      "魏丰村     2\n",
      "Name: 是否有跌倒皮骨伤疼痛生病等情况, dtype: int64\n",
      "共有: 26\n"
     ]
    }
   ],
   "source": [
    "\n",
    "Fall_related_count = df.groupby('地点')['是否有跌倒皮骨伤疼痛生病等情况'].sum()\n",
    "Fall_related_sum = df['是否有跌倒皮骨伤疼痛生病等情况'].sum()\n",
    "print(\"是否有跌倒皮骨伤疼痛生病等情况\\n\"+str(Fall_related_count))\n",
    "print(\"共有: \"+str(Fall_related_sum))"
   ]
  },
  {
   "cell_type": "code",
   "execution_count": 213,
   "metadata": {},
   "outputs": [
    {
     "name": "stdout",
     "output_type": "stream",
     "text": [
      "是否需要安装燃气报警器\n",
      "地点\n",
      "中一村    174\n",
      "仕厦村     52\n",
      "城下村     92\n",
      "夏塘村     14\n",
      "大市村      1\n",
      "子胥村      6\n",
      "歌舞村      5\n",
      "钟山村    377\n",
      "陇西村    117\n",
      "高峰村      0\n",
      "魏丰村      1\n",
      "Name: 是否需要安装燃气报警器, dtype: int64\n",
      "共有: 839\n"
     ]
    }
   ],
   "source": [
    "gas_count = df.groupby('地点')['是否需要安装燃气报警器'].sum()\n",
    "gas_sum = df['是否需要安装燃气报警器'].sum()\n",
    "print(\"是否需要安装燃气报警器\\n\"+str(gas_count))\n",
    "print(\"共有: \"+str(gas_sum))"
   ]
  },
  {
   "cell_type": "code",
   "execution_count": 214,
   "metadata": {},
   "outputs": [
    {
     "data": {
      "text/plain": [
       "是否缺少防暑必须品联系人及电话\n",
       "False             403\n",
       "15968139008        12\n",
       "13575726098         8\n",
       "麻根青13456797932      4\n",
       "滕雪根13116792855      4\n",
       "                 ... \n",
       "13045711208         1\n",
       "13003665258         1\n",
       "13967162308         1\n",
       "18258164900         1\n",
       "15858127048         1\n",
       "Name: count, Length: 407, dtype: int64"
      ]
     },
     "execution_count": 214,
     "metadata": {},
     "output_type": "execute_result"
    }
   ],
   "source": [
    "df['是否缺少防暑必须品联系人及电话'].value_counts()"
   ]
  },
  {
   "cell_type": "code",
   "execution_count": 215,
   "metadata": {},
   "outputs": [
    {
     "data": {
      "text/plain": [
       "性别\n",
       "男     461\n",
       "女     442\n",
       "男       3\n",
       "Name: count, dtype: int64"
      ]
     },
     "execution_count": 215,
     "metadata": {},
     "output_type": "execute_result"
    }
   ],
   "source": [
    "df['性别'].value_counts()"
   ]
  },
  {
   "cell_type": "code",
   "execution_count": 216,
   "metadata": {},
   "outputs": [
    {
     "name": "stdout",
     "output_type": "stream",
     "text": [
      "地点   性别\n",
      "中一村  男      95\n",
      "     女      79\n",
      "仕厦村  男      27\n",
      "     女      25\n",
      "城下村  女      55\n",
      "     男      37\n",
      "夏塘村  女      12\n",
      "     男       2\n",
      "大市村  男      11\n",
      "     女       1\n",
      "子胥村  男       4\n",
      "     女       3\n",
      "歌舞村  女       8\n",
      "     男       4\n",
      "钟山村  男     199\n",
      "     女     175\n",
      "     男       3\n",
      "陇西村  男      62\n",
      "     女      55\n",
      "高峰村  男       9\n",
      "     女       4\n",
      "魏丰村  女      25\n",
      "     男      11\n",
      "Name: count, dtype: int64\n",
      "性别\n",
      "男     461\n",
      "女     442\n",
      "男       3\n",
      "Name: count, dtype: int64\n"
     ]
    }
   ],
   "source": [
    "sex_count = df.groupby('地点')['性别'].sum()\n",
    "# sex_sum = df['性别'].sum()\n",
    "# print(\"性别\\n\"+str(sex_count))\n",
    "# print(\"共有: \"+str(sex_sum))\n",
    "sex_man = df.groupby('地点')['性别'].value_counts()\n",
    "sex_sum = df['性别'].value_counts()\n",
    "print(sex_man)\n",
    "print(sex_sum)"
   ]
  },
  {
   "cell_type": "code",
   "execution_count": 217,
   "metadata": {},
   "outputs": [
    {
     "data": {
      "text/plain": [
       "地点\n",
       "钟山村    377\n",
       "中一村    174\n",
       "陇西村    117\n",
       "城下村     92\n",
       "仕厦村     52\n",
       "魏丰村     36\n",
       "夏塘村     14\n",
       "高峰村     13\n",
       "歌舞村     12\n",
       "大市村     12\n",
       "子胥村      7\n",
       "Name: count, dtype: int64"
      ]
     },
     "execution_count": 217,
     "metadata": {},
     "output_type": "execute_result"
    }
   ],
   "source": [
    "df['地点'].value_counts()"
   ]
  },
  {
   "cell_type": "code",
   "execution_count": 218,
   "metadata": {},
   "outputs": [
    {
     "data": {
      "text/plain": [
       "906"
      ]
     },
     "execution_count": 218,
     "metadata": {},
     "output_type": "execute_result"
    }
   ],
   "source": [
    "total_count = df.count()['地点']\n",
    "total_count\n",
    "# total_count = df.count().sum()"
   ]
  },
  {
   "cell_type": "code",
   "execution_count": 224,
   "metadata": {},
   "outputs": [
    {
     "data": {
      "image/png": "[encoded data removed]",
      "text/plain": [
       "<Figure size 640x480 with 1 Axes>"
      ]
     },
     "metadata": {},
     "output_type": "display_data"
    }
   ],
   "source": [
    "# 选择“孤寡老人”和“空巢老人”两列，生成新的 DataFrame\n",
    "sub_df = df[['孤寡老人', '空巢老人','独居老人', '分散供养特困老人']]\n",
    "\n",
    "# 统计“孤寡老人”和“空巢老人”的人数\n",
    "num_solitary = sub_df['孤寡老人'].sum()\n",
    "num_empty = sub_df['空巢老人'].sum()\n",
    "num_alone = sub_df['独居老人'].sum()\n",
    "# num_3 = sub_df['分散供养特困老人'].sum()\n",
    "\n",
    "# 在柱上添加数字\n",
    "for i, v in enumerate([num_solitary, num_empty, num_alone]):\n",
    "    plt.text(i, v + 10, str(v), ha='center')\n",
    "\n",
    "# 绘制柱状图\n",
    "plt.bar(['孤寡老人', '空巢老人','独居老人'], [num_solitary, num_empty, num_alone])\n",
    "plt.title('重点老年人情况')\n",
    "plt.xlabel('老人类型')\n",
    "plt.ylabel('人数')\n",
    "plt.show()"
   ]
  },
  {
   "cell_type": "code",
   "execution_count": 225,
   "metadata": {},
   "outputs": [
    {
     "data": {
      "image/png": "[encoded data removed]",
      "text/plain": [
       "<Figure size 640x480 with 1 Axes>"
      ]
     },
     "metadata": {},
     "output_type": "display_data"
    }
   ],
   "source": [
    "# 选择“孤寡老人”和“空巢老人”两列，生成新的 DataFrame\n",
    "sub2_df = df[['房屋是否顾在安全隐患', '电器电线是否存在安全隐患','是否有眼化头晕无力食欲不振等现象', '是否有跌倒皮骨伤疼痛生病等情况','是否需要安装燃气报警器']]\n",
    "\n",
    "# 统计“孤寡老人”和“空巢老人”的人数\n",
    "num_0 = sub2_df['房屋是否顾在安全隐患'].sum()\n",
    "num_1 = sub2_df['电器电线是否存在安全隐患'].sum()\n",
    "num_2 = sub2_df['是否有眼化头晕无力食欲不振等现象'].sum()\n",
    "num_3 = sub2_df['是否有跌倒皮骨伤疼痛生病等情况'].sum()\n",
    "num_4 = sub2_df['是否需要安装燃气报警器'].sum()\n",
    "# num_3 = sub_df['分散供养特困老人'].sum()\n",
    "\n",
    "# 在柱上添加数字\n",
    "for i, v in enumerate([num_solitary, num_empty, num_alone]):\n",
    "    plt.text(i, v + 10, str(v), ha='center')\n",
    "\n",
    "# 绘制柱状图\n",
    "plt.bar(['房屋是否顾在安全隐患', '电器电线是否存在安全隐患','是否有眼化头晕无力食欲不振等现象', '是否有跌倒皮骨伤疼痛生病等情况', '是否需要安装燃气报警器'], [num_0, num_1, num_2, num_3, num_4])\n",
    "plt.title('环境与身体')\n",
    "plt.xlabel('类型')\n",
    "plt.ylabel('人数')\n",
    "plt.show()"
   ]
  },
  {
   "cell_type": "code",
   "execution_count": null,
   "metadata": {},
   "outputs": [],
   "source": []
  }
 ],
 "metadata": {
  "kernelspec": {
   "display_name": "gpt",
   "language": "python",
   "name": "python3"
  },
  "language_info": {
   "codemirror_mode": {
    "name": "ipython",
    "version": 3
   },
   "file_extension": ".py",
   "mimetype": "text/x-python",
   "name": "python",
   "nbconvert_exporter": "python",
   "pygments_lexer": "ipython3",
   "version": "3.10.10"
  },
  "orig_nbformat": 4
 },
 "nbformat": 4,
 "nbformat_minor": 2
}
